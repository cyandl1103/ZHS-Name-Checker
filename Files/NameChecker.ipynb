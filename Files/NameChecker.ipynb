{
 "cells": [
  {
   "cell_type": "code",
   "execution_count": 131,
   "id": "29f5d6b3",
   "metadata": {},
   "outputs": [],
   "source": [
    "import time\n",
    "import random\n",
    "from selenium import webdriver\n",
    "from selenium.webdriver.common.by import By\n",
    "from selenium.webdriver.support.ui import WebDriverWait\n",
    "from selenium.webdriver.support import expected_conditions as EC\n",
    "import requests\n",
    "import pandas as pd\n",
    "import openpyxl\n",
    "\n",
    "class NameChecker:\n",
    "    def __init__(self, driver):\n",
    "        self.driver = driver\n",
    "        \n",
    "    def search_name(self, search_file):\n",
    "        names = search_file['닉네임']\n",
    "        result = []\n",
    "        \n",
    "        for name in names:\n",
    "            try:\n",
    "                self.driver.get(\"http://zh-kr-g-account.awesomepiece.com/v2/coupon\")\n",
    "                self.driver.find_element('xpath', '//*[@id=\"inputNickname\"]').send_keys(name)\n",
    "                self.driver.find_element('xpath', '//*[@id=\"inputNicknameConfirm\"]').send_keys(name)    \n",
    "                self.driver.find_element('xpath', '/html/body/div/form/div[2]/button').click()\n",
    "                \n",
    "                #time.sleep(random.uniform(1,3))\n",
    "                element = WebDriverWait(self.driver, 3).until(EC.title_is('좀비고등학교 쿠폰 입력'))\n",
    "                url = self.driver.current_url\n",
    "\n",
    "                if \"http://zh-kr-g-coupon.awesomepiece.com/coupon/?key=\" in url:\n",
    "                    result.append('O')\n",
    "\n",
    "            except:\n",
    "                result.append('X')\n",
    "                \n",
    "        for i in range(len(result)):\n",
    "            search_file[\"존재 여부\"] = result\n",
    "        \n",
    "        search_file.to_excel('output.xlsx', sheet_name = \"Sheet1\", index = False)\n",
    "        #display(search_file)\n",
    "\n",
    "        \n",
    "        \n",
    "        \n",
    "options = webdriver.ChromeOptions()\n",
    "options.add_experimental_option(\"excludeSwitches\", [\"enable-logging\"])\n",
    "options.add_argument('headless')\n",
    "driver = webdriver.Chrome(options=options)\n",
    "\n",
    "file = pd.read_excel('input.xlsx', header = 0, engine = \"openpyxl\")\n",
    "Nc = NameChecker(driver)\n",
    "Nc.search_name(file)\n",
    "\n",
    "driver.quit()"
   ]
  }
 ],
 "metadata": {
  "kernelspec": {
   "display_name": "Python 3",
   "language": "python",
   "name": "python3"
  },
  "language_info": {
   "codemirror_mode": {
    "name": "ipython",
    "version": 3
   },
   "file_extension": ".py",
   "mimetype": "text/x-python",
   "name": "python",
   "nbconvert_exporter": "python",
   "pygments_lexer": "ipython3",
   "version": "3.8.8"
  }
 },
 "nbformat": 4,
 "nbformat_minor": 5
}
